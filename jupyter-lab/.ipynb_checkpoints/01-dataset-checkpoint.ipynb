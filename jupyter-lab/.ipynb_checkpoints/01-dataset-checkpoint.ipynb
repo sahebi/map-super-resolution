{
 "cells": [
  {
   "cell_type": "code",
   "execution_count": 107,
   "metadata": {},
   "outputs": [],
   "source": [
    "import glob\n",
    "import os\n",
    "from tqdm import tqdm\n",
    "import matplotlib.pyplot as plt\n",
    "import numpy as np\n",
    "from PIL import Image\n",
    "import cv2\n",
    "import shutil"
   ]
  },
  {
   "cell_type": "code",
   "execution_count": 135,
   "metadata": {},
   "outputs": [],
   "source": [
    "def make_dir(dataset):\n",
    "    for i in tqdm(range(len(dataset))):\n",
    "        dirpath = dataset[i][2]\n",
    "        if(not os.path.isdir(dirpath)):\n",
    "            os.makedirs(dirpath)\n",
    "\n",
    "        scale_factor = 0.5\n",
    "\n",
    "        image_idx = i\n",
    "\n",
    "        ext = os.path.splitext(dataset[image_idx][3])[1]\n",
    "        src = dataset[image_idx][3]\n",
    "        dst = dataset[image_idx][2]+'\\\\hr'+ext\n",
    "\n",
    "        shutil.copy2(src, dst)\n",
    "\n",
    "        img_hr = np.array(Image.open(src))\n",
    "        img_lr = cv2.resize(img_hr, None, fx=scale_factor, fy=scale_factor)\n",
    "\n",
    "        dst    = dataset[image_idx][2]+'\\\\lr'+ext\n",
    "\n",
    "        im     = Image.fromarray(img_lr)\n",
    "        im.save(dst)\n",
    "    print(\"-> Dataset image directory created.\")"
   ]
  },
  {
   "cell_type": "code",
   "execution_count": 136,
   "metadata": {},
   "outputs": [
    {
     "name": "stderr",
     "output_type": "stream",
     "text": [
      "100%|█████████████████████████████████████████████████████████████████| 328/328 [00:29<00:00,  6.97it/s]\n"
     ]
    },
    {
     "name": "stdout",
     "output_type": "stream",
     "text": [
      "-> Dataset image directory created.\n"
     ]
    }
   ],
   "source": [
    "dataset_path = 'code\\\\dataset\\\\test\\\\*\\\\*'\n",
    "image_in_ds  = glob.glob(dataset_path)\n",
    "dataset      = [\n",
    "                    [\n",
    "                        x.split('\\\\')[-1],\n",
    "                        x.split('\\\\')[-2],\n",
    "                        'result\\\\' + x.split('\\\\')[-1],\n",
    "                        x\n",
    "                    ] \n",
    "                    for x in image_in_ds\n",
    "                ]\n",
    "\n",
    "make_dir(dataset)"
   ]
  }
 ],
 "metadata": {
  "kernelspec": {
   "display_name": "Python 3",
   "language": "python",
   "name": "python3"
  },
  "language_info": {
   "codemirror_mode": {
    "name": "ipython",
    "version": 3
   },
   "file_extension": ".py",
   "mimetype": "text/x-python",
   "name": "python",
   "nbconvert_exporter": "python",
   "pygments_lexer": "ipython3",
   "version": "3.6.4"
  }
 },
 "nbformat": 4,
 "nbformat_minor": 2
}
