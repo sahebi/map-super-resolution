{
 "cells": [
  {
   "cell_type": "code",
   "execution_count": 158,
   "metadata": {},
   "outputs": [],
   "source": [
    "from glob import glob\n",
    "import pandas as pd\n",
    "import matplotlib.pyplot as plt"
   ]
  },
  {
   "cell_type": "code",
   "execution_count": 102,
   "metadata": {},
   "outputs": [],
   "source": [
    "log_files = glob('../checkpoints/*/_log.csv')"
   ]
  },
  {
   "cell_type": "code",
   "execution_count": 140,
   "metadata": {},
   "outputs": [
    {
     "data": {
      "text/html": [
       "<div>\n",
       "<style scoped>\n",
       "    .dataframe tbody tr th:only-of-type {\n",
       "        vertical-align: middle;\n",
       "    }\n",
       "\n",
       "    .dataframe tbody tr th {\n",
       "        vertical-align: top;\n",
       "    }\n",
       "\n",
       "    .dataframe thead th {\n",
       "        text-align: right;\n",
       "    }\n",
       "</style>\n",
       "<table border=\"1\" class=\"dataframe\">\n",
       "  <thead>\n",
       "    <tr style=\"text-align: right;\">\n",
       "      <th></th>\n",
       "      <th>method</th>\n",
       "      <th>optimizer</th>\n",
       "      <th>n_epoch</th>\n",
       "      <th>epoch</th>\n",
       "      <th>error</th>\n",
       "      <th>psnr</th>\n",
       "    </tr>\n",
       "  </thead>\n",
       "  <tbody>\n",
       "    <tr>\n",
       "      <th>0</th>\n",
       "      <td>carn</td>\n",
       "      <td>Adadelta</td>\n",
       "      <td>50</td>\n",
       "      <td>1</td>\n",
       "      <td>0.240142</td>\n",
       "      <td>6.430511</td>\n",
       "    </tr>\n",
       "    <tr>\n",
       "      <th>1</th>\n",
       "      <td>carn</td>\n",
       "      <td>Adadelta</td>\n",
       "      <td>50</td>\n",
       "      <td>2</td>\n",
       "      <td>0.209732</td>\n",
       "      <td>7.166917</td>\n",
       "    </tr>\n",
       "    <tr>\n",
       "      <th>2</th>\n",
       "      <td>carn</td>\n",
       "      <td>Adadelta</td>\n",
       "      <td>50</td>\n",
       "      <td>3</td>\n",
       "      <td>0.168361</td>\n",
       "      <td>8.415480</td>\n",
       "    </tr>\n",
       "    <tr>\n",
       "      <th>3</th>\n",
       "      <td>carn</td>\n",
       "      <td>Adadelta</td>\n",
       "      <td>50</td>\n",
       "      <td>4</td>\n",
       "      <td>0.116543</td>\n",
       "      <td>10.432514</td>\n",
       "    </tr>\n",
       "    <tr>\n",
       "      <th>4</th>\n",
       "      <td>carn</td>\n",
       "      <td>Adadelta</td>\n",
       "      <td>50</td>\n",
       "      <td>5</td>\n",
       "      <td>0.067816</td>\n",
       "      <td>12.993714</td>\n",
       "    </tr>\n",
       "  </tbody>\n",
       "</table>\n",
       "</div>"
      ],
      "text/plain": [
       "  method  optimizer  n_epoch  epoch     error       psnr\n",
       "0   carn   Adadelta       50      1  0.240142   6.430511\n",
       "1   carn   Adadelta       50      2  0.209732   7.166917\n",
       "2   carn   Adadelta       50      3  0.168361   8.415480\n",
       "3   carn   Adadelta       50      4  0.116543  10.432514\n",
       "4   carn   Adadelta       50      5  0.067816  12.993714"
      ]
     },
     "execution_count": 140,
     "metadata": {},
     "output_type": "execute_result"
    }
   ],
   "source": [
    "log_content = [pd.read_csv(log_file, header=None, names=['method', 'optimizer', 'n_epoch', 'epoch', 'error', 'psnr']) for log_file in log_files]\n",
    "log_content = pd.concat(log_content)\n",
    "log_content.head()"
   ]
  },
  {
   "cell_type": "code",
   "execution_count": 211,
   "metadata": {},
   "outputs": [],
   "source": [
    "methods = log_content.groupby('method').size().to_frame('cnt').reset_index()\n",
    "for id,method in methods.iterrows():  \n",
    "    data = log_content[log_content.method == method.method].groupby(['optimizer']).mean().reset_index()\n",
    "#     print(method.method)\n",
    "#     print(data.head())"
   ]
  },
  {
   "cell_type": "code",
   "execution_count": 319,
   "metadata": {},
   "outputs": [],
   "source": [
    "# for idx, row in contents.iterrows():  \n",
    "#     data = log_content[(log_content.method == 'carn') & (log_content.optimizer == row.optimizer)].sort_values('epoch')\n",
    "#     plt.plot(data.psnr)\n",
    "#     plt.axis([0, 10, 0, 0.05])\n",
    "#     plt.legend(row.optimizer)\n",
    "# plt.show()\n",
    "# plt.title('Method: carn, zoomed')\n",
    "# plt.show()"
   ]
  },
  {
   "cell_type": "code",
   "execution_count": 315,
   "metadata": {},
   "outputs": [
    {
     "data": {
      "text/plain": [
       "'b'"
      ]
     },
     "execution_count": 315,
     "metadata": {},
     "output_type": "execute_result"
    }
   ],
   "source": [
    "# carn      450\n",
    "# fsrcnn    450\n",
    "# srcnn     450\n",
    "# srcnnt    450\n",
    "# sub       450\n",
    "# vdsr      450\n",
    "colors = {\n",
    "    'ASGD': 'b',\n",
    "    'Adadelta': 'g',\n",
    "    'Adagrad': 'b',\n",
    "    'Adam': 'c',\n",
    "    'Adamax': 'm',\n",
    "    'Lamb': 'y',\n",
    "    'RMSprop': 'k',\n",
    "    'SGD': 'b',\n",
    "    'Rprop': 'g'\n",
    "}"
   ]
  },
  {
   "cell_type": "code",
   "execution_count": 327,
   "metadata": {},
   "outputs": [
    {
     "name": "stdout",
     "output_type": "stream",
     "text": [
      "   optimizer  n_epoch  epoch       error       psnr\n",
      "0       ASGD     50.0   25.5    0.029868  15.931198\n",
      "1   Adadelta     50.0   25.5    0.036752  15.541047\n",
      "2    Adagrad     50.0   25.5    0.008636  21.202356\n",
      "3       Adam     50.0   25.5    0.011004  20.535428\n",
      "4     Adamax     50.0   25.5    0.007070  21.968914\n",
      "5       Lamb     50.0   25.5    0.010987  20.293793\n",
      "6    RMSprop     50.0   25.5  110.866147  17.325369\n",
      "7      Rprop     50.0   25.5    0.005972  22.570506\n",
      "8        SGD     50.0   25.5    0.029865  15.931838\n"
     ]
    },
    {
     "data": {
      "image/png": "[encoded data removed]",
      "text/plain": [
       "<Figure size 432x288 with 1 Axes>"
      ]
     },
     "metadata": {},
     "output_type": "display_data"
    }
   ],
   "source": [
    "method = 'carn'\n",
    "contents = log_content[log_content.method == method].groupby('optimizer').mean().reset_index()\n",
    "\n",
    "plt.xlabel('epoch')\n",
    "plt.ylabel('error')\n",
    "plt.title(f'Method: {method}')\n",
    "for idx, row in contents.iterrows():\n",
    "    color = colors[row.optimizer.strip()]+'-'\n",
    "    data = log_content[(log_content.method == 'carn') & (log_content.optimizer == row.optimizer)].sort_values('epoch')\n",
    "    plt.plot(data.error, color)\n",
    "    plt.axis([0, 10, 0, 0.05])\n",
    "#     plt.legend(row.optimizer.strip())\n",
    "plt.show()\n"
   ]
  },
  {
   "cell_type": "code",
   "execution_count": null,
   "metadata": {},
   "outputs": [],
   "source": []
  },
  {
   "cell_type": "code",
   "execution_count": null,
   "metadata": {},
   "outputs": [],
   "source": []
  },
  {
   "cell_type": "code",
   "execution_count": null,
   "metadata": {},
   "outputs": [],
   "source": []
  },
  {
   "cell_type": "code",
   "execution_count": null,
   "metadata": {},
   "outputs": [],
   "source": []
  },
  {
   "cell_type": "code",
   "execution_count": null,
   "metadata": {},
   "outputs": [],
   "source": []
  },
  {
   "cell_type": "code",
   "execution_count": null,
   "metadata": {},
   "outputs": [],
   "source": []
  },
  {
   "cell_type": "code",
   "execution_count": null,
   "metadata": {},
   "outputs": [],
   "source": []
  },
  {
   "cell_type": "code",
   "execution_count": null,
   "metadata": {},
   "outputs": [],
   "source": []
  },
  {
   "cell_type": "code",
   "execution_count": 167,
   "metadata": {},
   "outputs": [],
   "source": [
    "import numpy as np"
   ]
  },
  {
   "cell_type": "code",
   "execution_count": 191,
   "metadata": {},
   "outputs": [
    {
     "data": {
      "image/png": "[encoded data removed]",
      "text/plain": [
       "<Figure size 432x288 with 1 Axes>"
      ]
     },
     "metadata": {},
     "output_type": "display_data"
    }
   ],
   "source": [
    "plt.plot([1,2,3,4],[1,4,9,16],'bo')\n",
    "plt.axis([0, 7, 0, 20])\n",
    "plt.ylabel('PSNR')\n",
    "plt.xlabel('EPOCH')\n",
    "plt.show()"
   ]
  },
  {
   "cell_type": "code",
   "execution_count": 208,
   "metadata": {},
   "outputs": [
    {
     "data": {
      "text/plain": [
       "[0, 5, 0, 25]"
      ]
     },
     "execution_count": 208,
     "metadata": {},
     "output_type": "execute_result"
    },
    {
     "data": {
      "image/png": "[encoded data removed]",
      "text/plain": [
       "<Figure size 432x288 with 1 Axes>"
      ]
     },
     "metadata": {},
     "output_type": "display_data"
    }
   ],
   "source": [
    "x = np.arange(0, 5, .2)\n",
    "plt.plot(x, x)\n",
    "plt.plot(x, x**2)\n",
    "plt.plot(x, x**3)\n",
    "plt.axis([0, 5, 0,25])"
   ]
  },
  {
   "cell_type": "code",
   "execution_count": null,
   "metadata": {},
   "outputs": [],
   "source": []
  },
  {
   "cell_type": "code",
   "execution_count": null,
   "metadata": {},
   "outputs": [],
   "source": []
  },
  {
   "cell_type": "code",
   "execution_count": null,
   "metadata": {},
   "outputs": [],
   "source": []
  },
  {
   "cell_type": "code",
   "execution_count": null,
   "metadata": {},
   "outputs": [],
   "source": []
  }
 ],
 "metadata": {
  "kernelspec": {
   "display_name": "Python 3",
   "language": "python",
   "name": "python3"
  },
  "language_info": {
   "codemirror_mode": {
    "name": "ipython",
    "version": 3
   },
   "file_extension": ".py",
   "mimetype": "text/x-python",
   "name": "python",
   "nbconvert_exporter": "python",
   "pygments_lexer": "ipython3",
   "version": "3.6.4"
  }
 },
 "nbformat": 4,
 "nbformat_minor": 2
}
