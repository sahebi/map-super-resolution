{
 "cells": [
  {
   "cell_type": "code",
   "execution_count": 2,
   "metadata": {},
   "outputs": [],
   "source": [
    "import cv2\n",
    "import numpy as np\n",
    "import glob\n",
    "import os\n",
    "import matplotlib.pyplot as plt\n",
    "import pandas as pd\n",
    "from tqdm import tqdm"
   ]
  },
  {
   "cell_type": "code",
   "execution_count": 3,
   "metadata": {},
   "outputs": [
    {
     "data": {
      "text/plain": [
       "['101085.png',\n",
       " 'BSDS100',\n",
       " '.png',\n",
       " 'result\\\\101085.png',\n",
       " 'dataset\\\\test\\\\BSDS100\\\\101085.png']"
      ]
     },
     "execution_count": 3,
     "metadata": {},
     "output_type": "execute_result"
    }
   ],
   "source": [
    "dataset_path = 'dataset\\\\test\\\\*\\\\*'\n",
    "image_in_ds  = glob.glob(dataset_path)\n",
    "dataset      = [\n",
    "                    [\n",
    "                        x.split('\\\\')[-1],\n",
    "                        x.split('\\\\')[-2],\n",
    "                        os.path.splitext(x)[1],\n",
    "                        'result\\\\' + x.split('\\\\')[-1],\n",
    "                        x\n",
    "                    ] \n",
    "                    for x in image_in_ds\n",
    "                ]\n",
    "dataset[0]"
   ]
  },
  {
   "cell_type": "code",
   "execution_count": 5,
   "metadata": {},
   "outputs": [],
   "source": [
    "# model  = \"code\\\\pytorch-examples\\\\super_resolution\\\\checkpoints\\\\model_epoch_293_27.705558508735404.pth\"\n",
    "model  = \"code\\\\pytorch-examples\\\\super_resolution\\\\models\\\\model_epoch_487_27.729707182511632.pth\""
   ]
  },
  {
   "cell_type": "code",
   "execution_count": 7,
   "metadata": {},
   "outputs": [
    {
     "data": {
      "text/plain": [
       "'python code\\\\pytorch-examples\\\\super_resolution\\\\super_resolve.py --input_image result\\\\101087.png\\\\lr.png --output_filename result\\\\101087.png\\\\srcnn.png --model code\\\\pytorch-examples\\\\super_resolution\\\\models\\\\model_epoch_487_27.729707182511632.pth'"
      ]
     },
     "execution_count": 7,
     "metadata": {},
     "output_type": "execute_result"
    }
   ],
   "source": [
    "i = 0\n",
    "# for file_idx in range(len(dataset[0])):\n",
    "file_idx    = 1\n",
    "result_path = dataset[file_idx][3]\n",
    "ext         = dataset[file_idx][2]\n",
    "# src       = dataset[file_idx][4]\n",
    "src         = f\"{result_path}\\\\lr{ext}\"\n",
    "dst         = f\"{result_path}\\\\srcnn{ext}\"\n",
    "script      = f\"python code\\\\pytorch-examples\\\\super_resolution\\\\super_resolve.py --input_image {src} --output_filename {dst} --model {model}\"\n",
    "#     !{script}\n",
    "script"
   ]
  },
  {
   "cell_type": "code",
   "execution_count": 10,
   "metadata": {},
   "outputs": [
    {
     "name": "stdout",
     "output_type": "stream",
     "text": [
      "Namespace(cuda=True, hr=None, input_image='result\\\\\\\\101087.png\\\\\\\\lr.png', model='code\\\\\\\\pytorch-examples\\\\\\\\super_resolution\\\\\\\\models\\\\\\\\model_epoch_487_27.729707182511632.pth', output_filename='result\\\\\\\\101087.png\\\\\\\\srcnn.png')\n"
     ]
    }
   ],
   "source": [
    "!python code\\\\pytorch-examples\\\\super_resolution\\\\super_resolve.py --input_image result\\\\101087.png\\\\lr.png --output_filename result\\\\101087.png\\\\srcnn.png --model code\\\\pytorch-examples\\\\super_resolution\\\\models\\\\model_epoch_487_27.729707182511632.pth\n"
   ]
  },
  {
   "cell_type": "code",
   "execution_count": null,
   "metadata": {},
   "outputs": [],
   "source": []
  },
  {
   "cell_type": "code",
   "execution_count": null,
   "metadata": {},
   "outputs": [],
   "source": []
  },
  {
   "cell_type": "code",
   "execution_count": null,
   "metadata": {},
   "outputs": [],
   "source": []
  },
  {
   "cell_type": "code",
   "execution_count": null,
   "metadata": {},
   "outputs": [],
   "source": []
  },
  {
   "cell_type": "code",
   "execution_count": null,
   "metadata": {},
   "outputs": [],
   "source": []
  },
  {
   "cell_type": "code",
   "execution_count": null,
   "metadata": {},
   "outputs": [],
   "source": []
  },
  {
   "cell_type": "code",
   "execution_count": null,
   "metadata": {},
   "outputs": [],
   "source": []
  },
  {
   "cell_type": "code",
   "execution_count": null,
   "metadata": {},
   "outputs": [],
   "source": []
  },
  {
   "cell_type": "code",
   "execution_count": null,
   "metadata": {},
   "outputs": [],
   "source": []
  },
  {
   "cell_type": "code",
   "execution_count": null,
   "metadata": {},
   "outputs": [],
   "source": []
  },
  {
   "cell_type": "code",
   "execution_count": 2,
   "metadata": {},
   "outputs": [],
   "source": [
    "checkpoint_path  = \"code\\\\pytorch-examples\\\\super_resolution\\\\checkpoints\\\\*\"\n",
    "checkpoint_files = glob.glob(checkpoint_path)\n",
    "checkpoint_stat  = [[x.split('_')[-2], x.split('_')[-1].split('.pth')[0]] for x in checkpoint_files]"
   ]
  },
  {
   "cell_type": "code",
   "execution_count": 7,
   "metadata": {},
   "outputs": [
    {
     "data": {
      "text/html": [
       "<div>\n",
       "<style scoped>\n",
       "    .dataframe tbody tr th:only-of-type {\n",
       "        vertical-align: middle;\n",
       "    }\n",
       "\n",
       "    .dataframe tbody tr th {\n",
       "        vertical-align: top;\n",
       "    }\n",
       "\n",
       "    .dataframe thead th {\n",
       "        text-align: right;\n",
       "    }\n",
       "</style>\n",
       "<table border=\"1\" class=\"dataframe\">\n",
       "  <thead>\n",
       "    <tr style=\"text-align: right;\">\n",
       "      <th></th>\n",
       "      <th>epoch</th>\n",
       "      <th>psnr</th>\n",
       "    </tr>\n",
       "  </thead>\n",
       "  <tbody>\n",
       "    <tr>\n",
       "      <th>0</th>\n",
       "      <td>100</td>\n",
       "      <td>27.45698777804762</td>\n",
       "    </tr>\n",
       "    <tr>\n",
       "      <th>1</th>\n",
       "      <td>101</td>\n",
       "      <td>27.478160690700065</td>\n",
       "    </tr>\n",
       "    <tr>\n",
       "      <th>2</th>\n",
       "      <td>102</td>\n",
       "      <td>27.417457639014053</td>\n",
       "    </tr>\n",
       "    <tr>\n",
       "      <th>3</th>\n",
       "      <td>103</td>\n",
       "      <td>27.46882278893309</td>\n",
       "    </tr>\n",
       "    <tr>\n",
       "      <th>4</th>\n",
       "      <td>104</td>\n",
       "      <td>27.470034494297085</td>\n",
       "    </tr>\n",
       "  </tbody>\n",
       "</table>\n",
       "</div>"
      ],
      "text/plain": [
       "  epoch                psnr\n",
       "0   100   27.45698777804762\n",
       "1   101  27.478160690700065\n",
       "2   102  27.417457639014053\n",
       "3   103   27.46882278893309\n",
       "4   104  27.470034494297085"
      ]
     },
     "execution_count": 7,
     "metadata": {},
     "output_type": "execute_result"
    }
   ],
   "source": [
    "# checkpoint_stat = np.array(checkpoint_stat)\n",
    "pd_checkpoint_stat = pd.DataFrame(checkpoint_stat, columns=['epoch', 'psnr'])\n",
    "# pd_checkpoint_stat = pd_checkpoint_stat.set_index('epoch')\n",
    "# pd_checkpoint_stat = pd_checkpoint_stat.sort_index()\n",
    "pd_checkpoint_stat.head()"
   ]
  },
  {
   "cell_type": "code",
   "execution_count": null,
   "metadata": {},
   "outputs": [],
   "source": [
    "pd_checkpoint_stat"
   ]
  },
  {
   "cell_type": "code",
   "execution_count": null,
   "metadata": {},
   "outputs": [],
   "source": []
  },
  {
   "cell_type": "code",
   "execution_count": null,
   "metadata": {},
   "outputs": [],
   "source": []
  }
 ],
 "metadata": {
  "kernelspec": {
   "display_name": "Python 3",
   "language": "python",
   "name": "python3"
  },
  "language_info": {
   "codemirror_mode": {
    "name": "ipython",
    "version": 3
   },
   "file_extension": ".py",
   "mimetype": "text/x-python",
   "name": "python",
   "nbconvert_exporter": "python",
   "pygments_lexer": "ipython3",
   "version": "3.6.4"
  }
 },
 "nbformat": 4,
 "nbformat_minor": 2
}
