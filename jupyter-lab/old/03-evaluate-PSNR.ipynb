{
 "cells": [
  {
   "cell_type": "code",
   "execution_count": 76,
   "metadata": {},
   "outputs": [],
   "source": [
    "from glob import glob\n",
    "from PIL import Image\n",
    "import cv2\n",
    "import numpy as np\n",
    "import matplotlib.pyplot as plt\n",
    "import torch\n",
    "import torch.nn as nn"
   ]
  },
  {
   "cell_type": "code",
   "execution_count": 78,
   "metadata": {},
   "outputs": [],
   "source": [
    "result = glob('result/')\n",
    "base_file = glob(f'{result[0]}/hr.*')\n",
    "files     = glob(f'{result[0]}/*')\n",
    "\n",
    "base_filelr = glob(f'result/lenna.png/lr.*')\n",
    "base_file   = glob(f'result/lenna.png/hr.*')\n",
    "files       = glob(f'result/lenna.png/*')"
   ]
  },
  {
   "cell_type": "code",
   "execution_count": 86,
   "metadata": {},
   "outputs": [],
   "source": [
    "lr = Image.open(base_filelr[0]).convert('YCbCr')\n",
    "hr = Image.open(base_file[0]).convert('YCbCr')\n",
    "sr = Image.open(files[2]).convert('YCbCr')\n",
    "\n",
    "ylr, _, _ = lr.split()\n",
    "yhr, _, _ = hr.split()\n",
    "ysr, _, _ = sr.split()\n",
    "\n",
    "ylr = np.array(ylr)\n",
    "yhr = np.array(yhr)\n",
    "ysr = np.array(ysr)"
   ]
  },
  {
   "cell_type": "code",
   "execution_count": 75,
   "metadata": {},
   "outputs": [
    {
     "data": {
      "text/plain": [
       "-68.656092515126602"
      ]
     },
     "execution_count": 75,
     "metadata": {},
     "output_type": "execute_result"
    }
   ],
   "source": [
    "10 * np.log10(1/np.sum(np.power(yhr-ysr,2)))\n",
    "# 10 * torch.log10(1 / (hr-sr).pow(2).sum())"
   ]
  },
  {
   "cell_type": "code",
   "execution_count": null,
   "metadata": {},
   "outputs": [],
   "source": []
  }
 ],
 "metadata": {
  "kernelspec": {
   "display_name": "Python 3",
   "language": "python",
   "name": "python3"
  },
  "language_info": {
   "codemirror_mode": {
    "name": "ipython",
    "version": 3
   },
   "file_extension": ".py",
   "mimetype": "text/x-python",
   "name": "python",
   "nbconvert_exporter": "python",
   "pygments_lexer": "ipython3",
   "version": "3.6.4"
  }
 },
 "nbformat": 4,
 "nbformat_minor": 2
}
